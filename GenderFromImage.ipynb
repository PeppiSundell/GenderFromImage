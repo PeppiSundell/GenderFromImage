{
 "cells": [
  {
   "cell_type": "code",
   "execution_count": 66,
   "id": "9c2afb4a",
   "metadata": {},
   "outputs": [],
   "source": [
    "import numpy as np \n",
    "import pandas as pd\n",
    "import matplotlib.pyplot as plt\n",
    "from sklearn.model_selection import train_test_split\n",
    "import random\n",
    "from tensorflow.keras.models import Sequential\n",
    "from tensorflow.keras.layers import Conv2D, MaxPooling2D, Dense, Flatten"
   ]
  },
  {
   "cell_type": "code",
   "execution_count": 67,
   "id": "26658b08",
   "metadata": {},
   "outputs": [],
   "source": [
    "df = pd.read_csv('age_gender.csv')\n",
    "df['pixels']=df['pixels'].apply(lambda x: np.array(x.split(), dtype=\"float32\"))\n",
    "X = np.array(df['pixels'].tolist())\n",
    "X = X.reshape(X.shape[0],48,48,1)\n",
    "Y = df['gender']"
   ]
  },
  {
   "cell_type": "code",
   "execution_count": 84,
   "id": "b14dac7e",
   "metadata": {
    "scrolled": true
   },
   "outputs": [
    {
     "data": {
      "image/png": "[encoded data removed]",
      "text/plain": [
       "<Figure size 640x480 with 1 Axes>"
      ]
     },
     "metadata": {},
     "output_type": "display_data"
    }
   ],
   "source": [
    "idx = random.randint(0, len(X))\n",
    "plt.imshow(X[idx, :])\n",
    "plt.show()"
   ]
  },
  {
   "cell_type": "code",
   "execution_count": 63,
   "id": "2a7f490a",
   "metadata": {},
   "outputs": [],
   "source": [
    "X_train, X_test, Y_train, Y_test = train_test_split(X, Y, test_size=0.2, random_state=37)"
   ]
  },
  {
   "cell_type": "code",
   "execution_count": 79,
   "id": "1020e760",
   "metadata": {},
   "outputs": [],
   "source": [
    "model = Sequential([\n",
    "    Conv2D(32,(3,3), activation = 'relu', input_shape = (48, 48, 1)),\n",
    "    MaxPooling2D((2,2)),\n",
    "    Conv2D(32,(3,3), activation = 'relu'),\n",
    "    MaxPooling2D((2,2)),\n",
    "    \n",
    "    Flatten(),\n",
    "    Dense(64, activation='relu'),\n",
    "    Dense(1,activation='sigmoid')\n",
    "])"
   ]
  },
  {
   "cell_type": "code",
   "execution_count": 80,
   "id": "b17b6ec3",
   "metadata": {},
   "outputs": [],
   "source": [
    "model.compile(loss = 'binary_crossentropy' , optimizer = 'adam', metrics = ['accuracy'])"
   ]
  },
  {
   "cell_type": "code",
   "execution_count": 81,
   "id": "cca744a9",
   "metadata": {},
   "outputs": [
    {
     "name": "stdout",
     "output_type": "stream",
     "text": [
      "Epoch 1/20\n",
      "WARNING:tensorflow:From C:\\Users\\peppi\\anaconda3\\Lib\\site-packages\\keras\\src\\utils\\tf_utils.py:492: The name tf.ragged.RaggedTensorValue is deprecated. Please use tf.compat.v1.ragged.RaggedTensorValue instead.\n",
      "\n",
      "WARNING:tensorflow:From C:\\Users\\peppi\\anaconda3\\Lib\\site-packages\\keras\\src\\engine\\base_layer_utils.py:384: The name tf.executing_eagerly_outside_functions is deprecated. Please use tf.compat.v1.executing_eagerly_outside_functions instead.\n",
      "\n",
      "297/297 [==============================] - 8s 23ms/step - loss: 0.9793 - accuracy: 0.7706\n",
      "Epoch 2/20\n",
      "297/297 [==============================] - 7s 23ms/step - loss: 0.3474 - accuracy: 0.8425\n",
      "Epoch 3/20\n",
      "297/297 [==============================] - 7s 23ms/step - loss: 0.3019 - accuracy: 0.8677\n",
      "Epoch 4/20\n",
      "297/297 [==============================] - 7s 23ms/step - loss: 0.2737 - accuracy: 0.8810\n",
      "Epoch 5/20\n",
      "297/297 [==============================] - 7s 23ms/step - loss: 0.2632 - accuracy: 0.8844\n",
      "Epoch 6/20\n",
      "297/297 [==============================] - 7s 23ms/step - loss: 0.2392 - accuracy: 0.8974\n",
      "Epoch 7/20\n",
      "297/297 [==============================] - 7s 23ms/step - loss: 0.2131 - accuracy: 0.9097\n",
      "Epoch 8/20\n",
      "297/297 [==============================] - 7s 23ms/step - loss: 0.1963 - accuracy: 0.9179\n",
      "Epoch 9/20\n",
      "297/297 [==============================] - 7s 23ms/step - loss: 0.1817 - accuracy: 0.9240\n",
      "Epoch 10/20\n",
      "297/297 [==============================] - 7s 23ms/step - loss: 0.1613 - accuracy: 0.9330\n",
      "Epoch 11/20\n",
      "297/297 [==============================] - 7s 23ms/step - loss: 0.1466 - accuracy: 0.9409\n",
      "Epoch 12/20\n",
      "297/297 [==============================] - 7s 23ms/step - loss: 0.1369 - accuracy: 0.9460\n",
      "Epoch 13/20\n",
      "297/297 [==============================] - 7s 23ms/step - loss: 0.1312 - accuracy: 0.9484\n",
      "Epoch 14/20\n",
      "297/297 [==============================] - 7s 24ms/step - loss: 0.1233 - accuracy: 0.9508\n",
      "Epoch 15/20\n",
      "297/297 [==============================] - 7s 25ms/step - loss: 0.1064 - accuracy: 0.9592\n",
      "Epoch 16/20\n",
      "297/297 [==============================] - 7s 25ms/step - loss: 0.1080 - accuracy: 0.9559\n",
      "Epoch 17/20\n",
      "297/297 [==============================] - 7s 25ms/step - loss: 0.0957 - accuracy: 0.9638\n",
      "Epoch 18/20\n",
      "297/297 [==============================] - 8s 26ms/step - loss: 0.0871 - accuracy: 0.9670\n",
      "Epoch 19/20\n",
      "297/297 [==============================] - 8s 26ms/step - loss: 0.0867 - accuracy: 0.9677\n",
      "Epoch 20/20\n",
      "297/297 [==============================] - 8s 26ms/step - loss: 0.0743 - accuracy: 0.9719\n"
     ]
    },
    {
     "data": {
      "text/plain": [
       "<keras.src.callbacks.History at 0x22e5b103c90>"
      ]
     },
     "execution_count": 81,
     "metadata": {},
     "output_type": "execute_result"
    }
   ],
   "source": [
    "model.fit(X_train, Y_train, epochs = 20, batch_size = 64)"
   ]
  },
  {
   "cell_type": "code",
   "execution_count": 82,
   "id": "bf1302f8",
   "metadata": {},
   "outputs": [
    {
     "name": "stdout",
     "output_type": "stream",
     "text": [
      "149/149 [==============================] - 1s 5ms/step - loss: 0.5962 - accuracy: 0.8608\n"
     ]
    },
    {
     "data": {
      "text/plain": [
       "[0.5961534976959229, 0.860788881778717]"
      ]
     },
     "execution_count": 82,
     "metadata": {},
     "output_type": "execute_result"
    }
   ],
   "source": [
    "model.evaluate(X_test, Y_test)"
   ]
  },
  {
   "cell_type": "code",
   "execution_count": 103,
   "id": "1eb827e3",
   "metadata": {
    "scrolled": true
   },
   "outputs": [
    {
     "data": {
      "image/png": "[encoded data removed]",
      "text/plain": [
       "<Figure size 640x480 with 1 Axes>"
      ]
     },
     "metadata": {},
     "output_type": "display_data"
    },
    {
     "name": "stdout",
     "output_type": "stream",
     "text": [
      "1/1 [==============================] - 0s 24ms/step\n",
      "Our models says he is a male\n"
     ]
    }
   ],
   "source": [
    "idx2 = random.randint(0, len(Y_test))\n",
    "plt.imshow(X_test[idx2, :])\n",
    "plt.show()\n",
    "\n",
    "y_pred = model.predict(X_test[idx2, :].reshape(1,48,48,1))\n",
    "y_pred = y_pred > 0.5\n",
    "\n",
    "if(y_pred == 0):\n",
    "    print('Our models says he is a male')\n",
    "else:\n",
    "    print('Our models says she is a female')"
   ]
  },
  {
   "cell_type": "code",
   "execution_count": null,
   "id": "c0ec6ce5",
   "metadata": {},
   "outputs": [],
   "source": []
  }
 ],
 "metadata": {
  "kernelspec": {
   "display_name": "Python 3 (ipykernel)",
   "language": "python",
   "name": "python3"
  },
  "language_info": {
   "codemirror_mode": {
    "name": "ipython",
    "version": 3
   },
   "file_extension": ".py",
   "mimetype": "text/x-python",
   "name": "python",
   "nbconvert_exporter": "python",
   "pygments_lexer": "ipython3",
   "version": "3.11.5"
  }
 },
 "nbformat": 4,
 "nbformat_minor": 5
}
